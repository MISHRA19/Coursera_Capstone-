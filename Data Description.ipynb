{
 "cells": [
  {
   "cell_type": "markdown",
   "metadata": {
    "collapsed": true
   },
   "source": [
    "## Data Description"
   ]
  },
  {
   "cell_type": "markdown",
   "metadata": {},
   "source": [
    "Foursquare API call would be used to complete the project in the following manner\n",
    "\n",
    "* First the parameters of the Foursquare account would be defined ex: Client ID,Secret Code etc\n",
    "* Individual Search URL would have to be created specifying the search criterion as 'Hotel','Restaurant','Park' etc..\n",
    "* The Json result file received would then be normalized and cleaned up for each set of url call done\n",
    "* Individual data frames hence cleaned up would then be merged up to form two new data frame\n",
    "* As far as the objective is defined, the first merged data frame would cater to the delegates attending the seminar\n",
    "* The second merged dataframe would cater to the interests of the families of the delegates\n",
    "* Both this dataframes would then be used alongside Folium library to superimpose the locations on the map of Canada\n",
    "* Observations and Conclusions need to be provided based on the above."
   ]
  },
  {
   "cell_type": "code",
   "execution_count": null,
   "metadata": {},
   "outputs": [],
   "source": []
  }
 ],
 "metadata": {
  "kernelspec": {
   "display_name": "Python 3.6",
   "language": "python",
   "name": "python3"
  },
  "language_info": {
   "codemirror_mode": {
    "name": "ipython",
    "version": 3
   },
   "file_extension": ".py",
   "mimetype": "text/x-python",
   "name": "python",
   "nbconvert_exporter": "python",
   "pygments_lexer": "ipython3",
   "version": "3.6.9"
  }
 },
 "nbformat": 4,
 "nbformat_minor": 1
}
