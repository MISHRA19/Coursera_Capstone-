{
 "cells": [
  {
   "cell_type": "markdown",
   "metadata": {
    "collapsed": true
   },
   "source": [
    "# Battle of Neighbourhoods - Final Assignment"
   ]
  },
  {
   "cell_type": "markdown",
   "metadata": {},
   "source": [
    "## Introduction"
   ]
  },
  {
   "cell_type": "markdown",
   "metadata": {},
   "source": [
    "Toronto has been hosting its famous health congregation Seminar since 2010. Its the time of the year when health \n",
    "professionals converge in hordes to participate,learn and share the latest technologies and breakthroughs in their field.\n",
    "\n",
    "Its a Five day event and the professionals are also accompanied by their families.\n",
    "\n",
    "This year is no exception. However, with the COVID-19 threat the seminar has been postponed to August, considering that the threat\n",
    "is reduced by that time.\n",
    "\n",
    "Lights and Action the event management company entrusted with the logistics of this event has employed me to provide them with\n",
    "data points and map that would assist them in arriving at probable logistics with regards to:\n",
    "    1. Hotels as Accomodation\n",
    "    2. Shopping malls and Event places\n",
    "    3. Parks,Restaurant,Cafetaria for family recreation\n",
    "\n",
    "This Project Therefore would have the objective of looking at such data points,clean them,merge them into probable sets and visualize\n",
    "the same with maps.    "
   ]
  },
  {
   "cell_type": "code",
   "execution_count": null,
   "metadata": {},
   "outputs": [],
   "source": []
  }
 ],
 "metadata": {
  "kernelspec": {
   "display_name": "Python 3.6",
   "language": "python",
   "name": "python3"
  },
  "language_info": {
   "codemirror_mode": {
    "name": "ipython",
    "version": 3
   },
   "file_extension": ".py",
   "mimetype": "text/x-python",
   "name": "python",
   "nbconvert_exporter": "python",
   "pygments_lexer": "ipython3",
   "version": "3.6.9"
  }
 },
 "nbformat": 4,
 "nbformat_minor": 1
}
